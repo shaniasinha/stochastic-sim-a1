{
 "cells": [
  {
   "cell_type": "markdown",
   "metadata": {},
   "source": [
    "# Assignment 1\n",
    "\n",
    "\\<names\\>, \\<id\\>"
   ]
  },
  {
   "cell_type": "code",
   "execution_count": null,
   "metadata": {},
   "outputs": [],
   "source": [
    "import numpy as np\n",
    "import matplotlib.pyplot as plt\n",
    "\n",
    "# setting parameters (these values can be changed)\n",
    "xDomain, yDomain = np.linspace(-2,1.5,500), np.linspace(-2,2,500)\n",
    "bound = 2\n",
    "power = 2             # any positive floating point value\n",
    "max_iterations = 50   # any positive integer value\n",
    "colormap = 'magma'    # set to any matplotlib valid colormap\n",
    "\n",
    "\n",
    "# computing 2-d array to represent the mandelbrot-set\n",
    "iterationArray = []\n",
    "for y in yDomain:\n",
    "    row = []\n",
    "    for x in xDomain:\n",
    "        c = complex(x,y)\n",
    "        z = 0\n",
    "        for iterationNumber in range(max_iterations):\n",
    "            if(abs(z) >= bound):\n",
    "                row.append(iterationNumber)\n",
    "                break\n",
    "            else: z = z**power + c\n",
    "        else:\n",
    "            row.append(0)\n",
    "\n",
    "    iterationArray.append(row)\n",
    "\n",
    "# plotting the data\n",
    "ax = plt.axes()\n",
    "#plt.rc('text', usetex = True)   # uncomment this line to enable use of tex when LaTeX is installed\n",
    "ax.set_aspect('equal')\n",
    "graph = ax.pcolormesh(xDomain, yDomain, iterationArray, cmap = colormap)\n",
    "plt.colorbar(graph)\n",
    "plt.xlabel(\"Real-Axis\")\n",
    "plt.ylabel(\"Imaginary-Axis\")\n",
    "plt.title('Mandelbrot set for $z_{{new}} = z^{{{}}} + c$'.format(power))\n",
    "plt.show()"
   ]
  }
 ],
 "metadata": {
  "kernelspec": {
   "display_name": "Python 3",
   "language": "python",
   "name": "python3"
  },
  "language_info": {
   "name": "python",
   "version": "3.8.3"
  }
 },
 "nbformat": 4,
 "nbformat_minor": 2
}
