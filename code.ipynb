{
 "cells": [
  {
   "cell_type": "markdown",
   "metadata": {},
   "source": [
    "# **Assignment 1**: Computing the area of the Mandelbrot Set\n",
    "\n",
    "Karolina Chlopicka, 15716546 <br>\n",
    "Shania Sinha, 14379031 <br>\n",
    "Salomé Poulain, 13955993"
   ]
  },
  {
   "cell_type": "code",
   "execution_count": null,
   "metadata": {},
   "outputs": [],
   "source": [
    "# Libraries\n",
    "import numpy as np\n",
    "import matplotlib.pyplot as plt\n",
    "from typing import List, Tuple, Callable\n",
    "from scipy.stats import qmc  # For Latin Hypercube sampling\n",
    "from joblib import Parallel, delayed\n",
    "\n",
    "%matplotlib inline"
   ]
  },
  {
   "cell_type": "markdown",
   "metadata": {},
   "source": [
    "## Problem 1: Mandelbrot Set\n",
    "\n",
    "Creating and visualizing an example of the Mandelbrot set."
   ]
  },
  {
   "cell_type": "code",
   "execution_count": null,
   "metadata": {},
   "outputs": [],
   "source": [
    "BOUNDING_BOX_X = (-2.5, 1.5)\n",
    "BOUNDING_BOX_Y = (-2, 2)\n",
    "BOUND = 2\n",
    "RESOLUTION_POINTS = 500\n",
    "POWER = 2\n",
    "MAX_ITER = 100 # Maximum number of iterations to check for convergence\n",
    "SEED = 42\n",
    "\n",
    "LITERARY_VALUE = 1.506591856 ####### idk\n",
    "\n",
    "# COLOURS ??? maybe nice for the future "
   ]
  },
  {
   "cell_type": "code",
   "execution_count": null,
   "metadata": {},
   "outputs": [],
   "source": [
    "def build_mandelbrot(\n",
    "    X: np.ndarray, \n",
    "    Y: np.ndarray, \n",
    "    bound: float = BOUND,\n",
    "    power: int = POWER, \n",
    "    max_iter: int = MAX_ITER\n",
    ") -> List[List[int]]:\n",
    "    \"\"\"\n",
    "    Compute the Mandelbrot set for given x and y ranges.\n",
    "\n",
    "    Parameters:\n",
    "        X (np.ndarray): Array of x values (real parts of complex plane).\n",
    "        Y (np.ndarray): Array of y values (imaginary parts of complex plane).\n",
    "        bound (float): Threshold for divergence in the Mandelbrot set.\n",
    "        power (int): The exponent for complex power in Mandelbrot iteration.\n",
    "        max_iter (int): Maximum number of iterations to compute per point.\n",
    "\n",
    "    Returns:\n",
    "        List[List[int]]: 2D list where each element represents the iteration count \n",
    "                         before divergence, or 0 if the point belongs to the set.\n",
    "    \"\"\"\n",
    "    mandelbrot_set = []\n",
    "    X, Y = np.meshgrid(X, Y)\n",
    "    C = X + 1j * Y  # Create a grid of complex numbers\n",
    "    Z = np.zeros_like(C, dtype=complex)\n",
    "    div_iter = np.zeros(C.shape, dtype=int)  # Track divergence iteration counts\n",
    "\n",
    "    # Iteratively compute the Mandelbrot set\n",
    "    for i in range(1, max_iter + 1):\n",
    "        mask = np.abs(Z) < bound\n",
    "        Z[mask] = Z[mask] ** power + C[mask]  # Update only non-diverging points\n",
    "        div_iter[mask & (np.abs(Z) >= bound)] = i  # Record when they diverge\n",
    "\n",
    "    mandelbrot_set = div_iter.tolist()  # Convert to a list of lists\n",
    "    return mandelbrot_set"
   ]
  },
  {
   "cell_type": "code",
   "execution_count": null,
   "metadata": {},
   "outputs": [],
   "source": [
    "# Setting parameters\n",
    "all_x = np.linspace(BOUNDING_BOX_X[0], BOUNDING_BOX_X[1], RESOLUTION_POINTS)\n",
    "all_y = np.linspace(BOUNDING_BOX_Y[0], BOUNDING_BOX_Y[1], RESOLUTION_POINTS)\n",
    "\n",
    "colormap = 'magma'\n",
    "\n",
    "mandelbrot_set = build_mandelbrot(all_x, all_y)"
   ]
  },
  {
   "cell_type": "code",
   "execution_count": null,
   "metadata": {},
   "outputs": [],
   "source": [
    "# Plotting\n",
    "ax = plt.axes()\n",
    "ax.set_aspect('equal')\n",
    "graph = ax.pcolormesh(all_x, all_y, mandelbrot_set, cmap = colormap, shading='auto')\n",
    "plt.colorbar(graph)\n",
    "plt.xlabel(\"Real-Axis\")\n",
    "plt.ylabel(\"Imaginary-Axis\")\n",
    "plt.title(f\"Mandelbrot set for $z_{{new}} = z^{{power}} + c$\")\n",
    "plt.show()"
   ]
  },
  {
   "cell_type": "markdown",
   "metadata": {},
   "source": [
    "## Problem 2: Investigate the convergence of $A_{i,s} \\rightarrow A_M$\n",
    "\n",
    "Investigating the area of the Mandelbrot set $A_M$ using Monte Carlo integration. $A_{i,s}$ denotes an estimate of an area, where $i$ refers to a number of iterations and $s$ refers to number of samples drawn.  "
   ]
  },
  {
   "cell_type": "code",
   "execution_count": null,
   "metadata": {},
   "outputs": [],
   "source": [
    "# Function to check if a point is in the Mandelbrot set\n",
    "def check_mandelbrot(x,y):\n",
    "    c = complex(x,y)\n",
    "    z = 0\n",
    "    for j in range(100):\n",
    "        if(abs(z) >= bound):\n",
    "            answer = 0\n",
    "            break\n",
    "        else: z = z**2 + c\n",
    "    else:\n",
    "        answer = 1\n",
    "    return(answer)"
   ]
  },
  {
   "cell_type": "code",
   "execution_count": null,
   "metadata": {},
   "outputs": [],
   "source": [
    "# Monte Carlo simulation\n",
    "def monte_carlo(i,s):\n",
    "    iterations = i  # Number of iterations\n",
    "    sample_size = s # Number of samples \n",
    "    size_iterations = np.zeros(iterations)\n",
    "\n",
    "    for j in range(iterations):\n",
    "        \n",
    "        point_in = np.zeros(sample_size)    # Storing points inside the Mandelbrot set\n",
    "        point_out = np.zeros(sample_size)   # Storing points outside the Mandelbrot set\n",
    "        \n",
    "        for i in range(sample_size):\n",
    "        # Generating number of point equivalent to the sample size within the bounding rectangle\n",
    "        # X in (-2,1.5) and Y in (-2,2)\n",
    "            x_cordinate = np.random.uniform(-2,1.5) \n",
    "            y_cordinate = np.random.uniform(-2,2)\n",
    "\n",
    "            if(check_mandelbrot(x_cordinate,y_cordinate)==1):\n",
    "                point_in[i] = 1\n",
    "            \n",
    "            else: \n",
    "                point_out[i] = 1\n",
    "\n",
    "        size = (np.count_nonzero(point_in == 1)/sample_size)*(3.5*4)\n",
    "        size_iterations[j] = size   \n",
    "    \n",
    "    average_size = np.mean(size_iterations)  \n",
    "    \n",
    "    # return(f\"For {i} iternations and sample size equal to {s} $A_i_s$ = {average_size}\")\n",
    "    return(average_size)"
   ]
  },
  {
   "cell_type": "code",
   "execution_count": null,
   "metadata": {},
   "outputs": [],
   "source": [
    "#  Testing the function\n",
    "monte_carlo(100,1000)"
   ]
  },
  {
   "cell_type": "markdown",
   "metadata": {},
   "source": [
    "### 2.1: Convergence of $A_{i,s} \\rightarrow A_M$ \n",
    "\n",
    "We set the sample size to $s=1000$, and investigate the convergence of the area when changing the number of iterations for all $j<i$ such that $i = 3000$ and $j = \\{100k: k \\in \\{1, 2, ..., 30\\}\\}$"
   ]
  },
  {
   "cell_type": "code",
   "execution_count": null,
   "metadata": {},
   "outputs": [],
   "source": [
    "number_of_iterations = np.array([100*i for i in range(1,31)])\n",
    "estimation = np.zeros(len(number_of_iterations)) # Store the results of estimated area \n",
    "\n",
    "for i in range(len(number_of_iterations)):   \n",
    "    iterations = number_of_iterations[i]   \n",
    "    estimation[i] = monte_carlo(iterations,1000)\n",
    "print(estimation)  "
   ]
  },
  {
   "cell_type": "code",
   "execution_count": null,
   "metadata": {},
   "outputs": [],
   "source": [
    "figure_1, (ax1, ax2) = plt.subplots(1, 2, figsize=(16, 8))\n",
    "\n",
    "# Plotting the estimated area of the Mandelbrot set\n",
    "ax1.plot(number_of_iterations,estimation, color = \"blue\")\n",
    "ax1.set_xlabel(\"Number of iterations\")\n",
    "ax1.set_ylabel(\"Estimated area of Mandelbrot set\")\n",
    "ax1.grid(True)\n",
    "ax2.grid(True)\n",
    "\n",
    "# Plotting the difference in the estimated area\n",
    "max_i = estimation[-1]\n",
    "difference = np.abs(estimation[0:-1] - max_i)\n",
    "ax2.plot(number_of_iterations[0:-1],difference, color = \"blue\")\n",
    "ax2.set_xlabel(\"Number of iterations\")\n",
    "ax2.set_ylabel(\"Difference in the estimated area: $\\parallel A(j,1000) - A(3000,1000) \\parallel$\")"
   ]
  },
  {
   "cell_type": "markdown",
   "metadata": {},
   "source": [
    "## Problem 3: Different Sampling Methods\n",
    "\n",
    "Explore different sampling methods. Namely:\n",
    "1. Pure random sampling\n",
    "2. Latin Hypercube sampling\n",
    "3. Orthogonal sampling"
   ]
  },
  {
   "cell_type": "markdown",
   "metadata": {},
   "source": [
    "### 3.1: Pure Random"
   ]
  },
  {
   "cell_type": "code",
   "execution_count": null,
   "metadata": {},
   "outputs": [],
   "source": [
    "# TODO"
   ]
  },
  {
   "cell_type": "markdown",
   "metadata": {},
   "source": [
    "### 3.2: Latin Hypercube"
   ]
  },
  {
   "cell_type": "code",
   "execution_count": null,
   "metadata": {},
   "outputs": [],
   "source": [
    "# TODO"
   ]
  },
  {
   "cell_type": "markdown",
   "metadata": {},
   "source": [
    "### 3.3: Orthogonal"
   ]
  },
  {
   "cell_type": "code",
   "execution_count": null,
   "metadata": {},
   "outputs": [],
   "source": [
    "from scipy.stats import qmc\n",
    "\n",
    "def oa_lhs(p, d, seed=None):\n",
    "    \"\"\"Generates an orthogonal array Latin hypercube sample.\n",
    "\n",
    "    Author: Pamphile Tupui ROY\n",
    "    Source: https://gist.github.com/tupui/3b79ecea1631e8925f3d47069d435b0f\n",
    "\n",
    "    Inputs:\n",
    "        p: number of levels\n",
    "        d: number of dimensions\n",
    "        seed: random seed\n",
    "\n",
    "    Output: orthogonal array Latin hypercube sample\n",
    "    \"\"\"\n",
    "    oa_sample = np.zeros(shape=(p**2, p + 1))\n",
    "\n",
    "    arrays = np.tile(np.arange(p), (2, 1))\n",
    "    oa_sample[:, :2] = np.stack(np.meshgrid(*arrays), axis=-1).reshape(-1, 2)\n",
    "    for p_ in range(1, p):\n",
    "        oa_sample[:, 2 + p_ - 1] = np.mod(oa_sample[:, 0] + p_ * oa_sample[:, 1], p)\n",
    "\n",
    "    # scramble the OA\n",
    "    oa_sample_ = np.empty(shape=(p**2, p + 1))\n",
    "    for j in range(p + 1):\n",
    "        perms = np.random.permutation(p)\n",
    "        for k in range(p):\n",
    "            idx = np.where(oa_sample[:, j] == k)[0]\n",
    "            oa_sample_[idx, j] = perms[k]\n",
    "    \n",
    "    oa_sample = oa_sample_\n",
    "\n",
    "    # Convert to OA-LHS\n",
    "    oa_lhs_sample = np.zeros(shape=(p**2, p + 1))\n",
    "    for j in range(p + 1):\n",
    "        for k in range(p):\n",
    "            idx = np.where(oa_sample[:, j] == k)[0]\n",
    "            lhs = qmc.LatinHypercube(d=1, centered=True, seed=seed).random(p).flatten()\n",
    "            oa_lhs_sample[:, j][idx] = lhs + oa_sample[:, j][idx]\n",
    "\n",
    "    oa_lhs_sample /= p\n",
    "\n",
    "    if d is not None:\n",
    "        oa_lhs_sample = oa_lhs_sample[:, :d]\n",
    "    return oa_lhs_sample"
   ]
  },
  {
   "cell_type": "code",
   "execution_count": null,
   "metadata": {},
   "outputs": [],
   "source": [
    "def monte_carlo_oa_lhs(iterations, sample_size, x_min=-2, x_max=1.5, y_min=-2, y_max=2, seed=None):\n",
    "    # Calculate p to ensure p^2 >= sample_size\n",
    "    p = int(np.ceil(np.sqrt(sample_size)))\n",
    "    size_iterations = np.zeros(iterations)\n",
    "\n",
    "    for j in range(iterations):\n",
    "        point_in = np.zeros(sample_size)    # Storing points inside the Mandelbrot set\n",
    "        \n",
    "        # Generate OA-LHS samples for the bounding rectangle\n",
    "        oa_lhs_samples = oa_lhs(p, 2, seed=seed)\n",
    "        \n",
    "        # Scale the OA-LHS samples to the desired region\n",
    "        oa_lhs_samples[:, 0] = oa_lhs_samples[:, 0] * (x_max - x_min) + x_min\n",
    "        oa_lhs_samples[:, 1] = oa_lhs_samples[:, 1] * (y_max - y_min) + y_min\n",
    "\n",
    "        # Limit the samples to sample_size\n",
    "        oa_lhs_samples = oa_lhs_samples[:sample_size]\n",
    "        \n",
    "        for i in range(sample_size):\n",
    "            x_cordinate, y_cordinate = oa_lhs_samples[i]\n",
    "            if check_mandelbrot(x_cordinate, y_cordinate) == 1:\n",
    "                point_in[i] = 1\n",
    "        \n",
    "        # Calculate the estimated area for this iteration\n",
    "        size = (np.count_nonzero(point_in == 1) / sample_size) * ((x_max - x_min) * (y_max - y_min))\n",
    "        size_iterations[j] = size   \n",
    "    \n",
    "    # Calculate the average estimated area across all iterations\n",
    "    average_size = np.mean(size_iterations)\n",
    "    \n",
    "    return average_size"
   ]
  },
  {
   "cell_type": "code",
   "execution_count": null,
   "metadata": {},
   "outputs": [],
   "source": [
    "# Example usage\n",
    "average_size = monte_carlo_oa_lhs(iterations=100, sample_size=10000, seed=42)\n",
    "print(f\"Estimated area of the Mandelbrot set: {average_size}\")"
   ]
  },
  {
   "cell_type": "markdown",
   "metadata": {},
   "source": [
    "## Problem 4: Improvements to Monte Carlo Convergence Rate\n",
    "\n",
    "Formulate and test a method to further improve the convergence rate of the Monte\n",
    "Carlo approach."
   ]
  },
  {
   "cell_type": "code",
   "execution_count": null,
   "metadata": {},
   "outputs": [],
   "source": []
  }
 ],
 "metadata": {
  "kernelspec": {
   "display_name": "Python 3",
   "language": "python",
   "name": "python3"
  },
  "language_info": {
   "codemirror_mode": {
    "name": "ipython",
    "version": 3
   },
   "file_extension": ".py",
   "mimetype": "text/x-python",
   "name": "python",
   "nbconvert_exporter": "python",
   "pygments_lexer": "ipython3",
   "version": "3.8.3"
  }
 },
 "nbformat": 4,
 "nbformat_minor": 2
}
